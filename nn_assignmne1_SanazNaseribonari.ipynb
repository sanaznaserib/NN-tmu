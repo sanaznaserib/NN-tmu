{
  "nbformat": 4,
  "nbformat_minor": 0,
  "metadata": {
    "colab": {
      "provenance": []
    },
    "kernelspec": {
      "name": "python3",
      "display_name": "Python 3"
    },
    "language_info": {
      "name": "python"
    }
  },
  "cells": [
    {
      "cell_type": "code",
      "execution_count": 1,
      "metadata": {
        "colab": {
          "base_uri": "https://localhost:8080/"
        },
        "id": "HiLZ6mE9D9gy",
        "outputId": "e8c6bb03-03fe-4efc-b6f0-4c75098f42e7"
      },
      "outputs": [
        {
          "output_type": "stream",
          "name": "stdout",
          "text": [
            "xm: 2.0\n",
            "xm: 1.5\n",
            "xm: 1.75\n",
            "xm: 1.875\n",
            "xm: 1.8125\n",
            "xm: 1.84375\n",
            "xm: 1.828125\n",
            "xm: 1.8359375\n",
            "xm: 1.83984375\n",
            "xm: 1.841796875\n",
            "xm: 1.8427734375\n",
            "xm: 1.84326171875\n",
            "xm: 1.843017578125\n",
            "xm: 1.8428955078125\n",
            "xm: 1.84283447265625\n",
            "xm: 1.842803955078125\n",
            "xm: 1.8428192138671875\n",
            "xm: 1.8428268432617188\n",
            "xm: 1.8428230285644531\n",
            "xm: 1.842824935913086\n",
            "xm: 1.8428239822387695\n",
            "Root: 1.8428244590759277\n"
          ]
        }
      ],
      "source": [
        "import math\n",
        "\n",
        "def f(x):\n",
        "    return math.exp(x) - 10 + 2*x\n",
        "\n",
        "xa = 1\n",
        "xb = 3\n",
        "accuracy = 1e-6  # Desired accuracy\n",
        "\n",
        "for _ in range(10):  # Run the loop 10 times\n",
        "    xm = (xa + xb) / 2\n",
        "    print(\"xm:\", xm)\n",
        "    fxm = f(xm)\n",
        "\n",
        "    if f(xa) * fxm < 0:\n",
        "        xb = xm\n",
        "    else:\n",
        "        xa = xm\n",
        "\n",
        "# Re-write the program to stop when desired accuracy is obtained\n",
        "while abs(xb - xa) > accuracy:\n",
        "    xm = (xa + xb) / 2\n",
        "    print(\"xm:\", xm)\n",
        "    fxm = f(xm)\n",
        "\n",
        "    if f(xa) * fxm < 0:\n",
        "        xb = xm\n",
        "    else:\n",
        "        xa = xm\n",
        "\n",
        "root = (xa + xb) / 2\n",
        "print(\"Root:\", root)"
      ]
    },
    {
      "cell_type": "code",
      "source": [
        "def f(x, y, z):\n",
        "    return 2*x + 3*y + 4*z - 30\n",
        "\n",
        "xa = 1\n",
        "ya = 2\n",
        "za = 3\n",
        "xb = 3\n",
        "yb = 4\n",
        "zb = 5\n",
        "accuracy = 1e-5  # Desired accuracy\n",
        "\n",
        "for _ in range(10):  # Run the loop 10 times\n",
        "    xm = (xa + xb) / 2\n",
        "    ym = (ya + yb) / 2\n",
        "    zm = (za + zb) / 2\n",
        "    print(\"xm:\", xm, \"ym:\", ym, \"zm:\", zm)\n",
        "    fxm = f(xm, ym, zm)\n",
        "\n",
        "    if f(xa, ya, za) * fxm < 0:\n",
        "        xb = xm\n",
        "        yb = ym\n",
        "        zb = zm\n",
        "    else:\n",
        "        xa = xm\n",
        "        ya = ym\n",
        "        za = zm\n",
        "\n",
        "# Re-write the program to stop when desired accuracy is obtained\n",
        "while abs(xb - xa) > accuracy or abs(yb - ya) > accuracy or abs(zb - za) > accuracy:\n",
        "    xm = (xa + xb) / 2\n",
        "    ym = (ya + yb) / 2\n",
        "    zm = (za + zb) / 2\n",
        "    print(\"xm:\", xm, \"ym:\", ym, \"zm:\", zm)\n",
        "    fxm = f(xm, ym, zm)\n",
        "\n",
        "    if f(xa, ya, za) * fxm < 0:\n",
        "        xb = xm\n",
        "        yb = ym\n",
        "        zb = zm\n",
        "    else:\n",
        "        xa = xm\n",
        "        ya = ym\n",
        "        za = zm\n",
        "\n",
        "intersection = (xa + xb) / 2, (ya + yb) / 2, (za + zb) / 2\n",
        "print(\"Intersection:\", intersection)"
      ],
      "metadata": {
        "colab": {
          "base_uri": "https://localhost:8080/"
        },
        "id": "h3X2zi1-GUxZ",
        "outputId": "4bc62b53-afb1-4f4d-e7a6-97827cda1276"
      },
      "execution_count": 2,
      "outputs": [
        {
          "output_type": "stream",
          "name": "stdout",
          "text": [
            "xm: 2.0 ym: 3.0 zm: 4.0\n",
            "xm: 2.5 ym: 3.5 zm: 4.5\n",
            "xm: 2.25 ym: 3.25 zm: 4.25\n",
            "xm: 2.125 ym: 3.125 zm: 4.125\n",
            "xm: 2.0625 ym: 3.0625 zm: 4.0625\n",
            "xm: 2.09375 ym: 3.09375 zm: 4.09375\n",
            "xm: 2.109375 ym: 3.109375 zm: 4.109375\n",
            "xm: 2.1171875 ym: 3.1171875 zm: 4.1171875\n",
            "xm: 2.11328125 ym: 3.11328125 zm: 4.11328125\n",
            "xm: 2.111328125 ym: 3.111328125 zm: 4.111328125\n",
            "xm: 2.1103515625 ym: 3.1103515625 zm: 4.1103515625\n",
            "xm: 2.11083984375 ym: 3.11083984375 zm: 4.11083984375\n",
            "xm: 2.111083984375 ym: 3.111083984375 zm: 4.111083984375\n",
            "xm: 2.1112060546875 ym: 3.1112060546875 zm: 4.1112060546875\n",
            "xm: 2.11114501953125 ym: 3.11114501953125 zm: 4.11114501953125\n",
            "xm: 2.111114501953125 ym: 3.111114501953125 zm: 4.111114501953125\n",
            "xm: 2.1110992431640625 ym: 3.1110992431640625 zm: 4.1110992431640625\n",
            "xm: 2.1111068725585938 ym: 3.1111068725585938 zm: 4.111106872558594\n",
            "Intersection: (2.1111106872558594, 3.1111106872558594, 4.111110687255859)\n"
          ]
        }
      ]
    }
  ]
}